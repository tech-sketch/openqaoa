{
 "cells": [
  {
   "cell_type": "markdown",
   "id": "c5de313a",
   "metadata": {},
   "source": [
    "# 99 - Fermionic QAOA (FQAOA)\n",
    "\n",
    "This notebook provides a brief introduction to Fermionic QAOA (FQAOA). \n",
    "It shows how this technique is implemented in the OpenQAOA workflow by solving the constrained quadratic optimization problem, an NP-hard problem.\n",
    "\n",
    "## A brief introduction\n",
    "\n",
    "We present an implementation of a novel algorithm designed for solving combinatorial optimization problems with constraints, utilizing the principles of quantum computing. The algorithm, known as the FQAOA [1, 2], introduces a significant enhancement over traditional methods by leveraging fermion particle number preservation. This intrinsic property allows the algorithm to enforce constraints naturally throughout the optimization process, addressing a critical challenge in many combinatorial problems.\n",
    "\n",
    "### Key Features\n",
    "- Constraint Handling: In contrast to conventional approaches, which treat constraints as soft constraints in the cost function, FQAOA enforces constraints intrinsically by preserving fermion particle numbers, thereby enhancing the overall performance of the optimization algorithm.\n",
    "\n",
    "- Design of FQAOA Ansatz: In this algorithm,\n",
    "the mixer is designed so that any classical state can be reached by its multiple actions.\n",
    "The initial state is set to a ground state of the mixer Hamiltonian satisfying the constraints of the problem.\n",
    "\n",
    "- Adiabatic Evolution: FQAOA effectively reduces to quantum adiabatic computation in the large limit of circuit depth, $p$, offering improved performance even for shallow circuits by optimizing parameters starting from fixed angles determined by Trotterized quantum adiabatic evolution.\n",
    "\n",
    "- Performance Advantage: Extensive numerical simulations demonstrate that FQAOA offers substantial performance benefits over existing methods, particularly in portfolio optimization problems.\n",
    "\n",
    "- Broad Applicability: The Hamiltonian design guideline benefits QAOA and extends to other algorithms like Grover adaptive search and quantum phase estimation, making it a versatile tool for solving constrained combinatorial optimization problems.\n",
    "\n",
    "This notebook describes the implementation of FQAOA, illustrates its application through various examples, and provides insight into FQAOA's superior performance in constrained combinatorial optimization tasks.\n",
    "\n",
    "### Constrained Combinatorial Optimization Problems and Cost Hamiltonian\n",
    "The constrained combinatorial optimization problem for a polynomial cost function　$C_{\\boldsymbol x}$ covered here can be written in the following form：\n",
    "$${\\boldsymbol x}^* = \\arg \\min_{\\boldsymbol x} C_{\\boldsymbol x}\\qquad {\\rm s.t.} \\quad\\sum_{i=1}^{N} x_i = M,$$\n",
    "with bit string ${\\boldsymbol x}\\in \\{0,1\\}^N$, where ${\\boldsymbol x}^*$ is the optimal solution.\n",
    "This problem can be replaced by the minimum eigenvalue problem in the following steps.\n",
    "\n",
    "1. map the cost function $C_{\\boldsymbol x}$ to the cost Hamiltonian $\\hat{\\cal H}_C$ by $x_i\\rightarrow \\hat{n}_i$:\n",
    "\\begin{eqnarray}\n",
    "C_{\\boldsymbol x} &=& \\sum_i I_i x_{i}+\\sum_{i_1,i_2} I_{i_1,i_2} x_{i_1}x_{i_2}+\\cdots +\n",
    "\\sum_{i_1,i_2,\\cdots i_K} I_{i_1,i_2,\\cdots i_K} x_{i_1}x_{i_2}\\cdots x_{i_K}\\\\\n",
    "&\\mapsto&\\hat{\\cal H}_C=\\sum_i I_i \\hat{n}_{i}+\\sum_{i_1,i_2} I_{i_1,i_2} \\hat{n}_{i_1}\\hat{n}_{i_2}+\\cdots +\n",
    "\\sum_{i_1,i_2,\\cdots i_K} I_{i_1,i_2,\\cdots i_K} \\hat{n}_{i_1}\\hat{n}_{i_2}\\cdots \\hat{n}_{i_K},\n",
    "\\end{eqnarray}\n",
    "where $\\hat{n}_i = \\hat{c}^\\dagger_i\\hat{c}_i$ is number operator and $\\hat{c}_i^\\dagger (\\hat{c}_i)$ is creation (annihilation) operator of fermion at $i$-th site.\n",
    "\n",
    "2. formulate eigen value problems for combinatorial optimization problem under the constraint:\n",
    "\\begin{eqnarray}\n",
    "\\hat{\\cal H}_C|x_1x_2\\cdots x_N\\rangle &=& C_{\\boldsymbol x}|x_1x_2\\cdots x_N\\rangle,\\\\\n",
    "\\sum_{i=1}^{N} \\hat{n}_i|x_1x_2\\cdots x_N\\rangle &=& M|x_1x_2\\cdots x_N\\rangle,\n",
    "\\end{eqnarray}\n",
    "where $|x_1x_2\\cdots x_N\\rangle=(\\hat{c}^\\dagger_1)^{x_1}(\\hat{c}^\\dagger_2)^{x_2}\\cdots (\\hat{c}^\\dagger_N)^{x_N}|{\\rm vac}\\rangle$ is fermionic basis state and $|\\rm vac\\rangle$ is vacuum satisfying $\\hat{c}_i|\\rm vac\\rangle=0$.\n",
    "\n",
    "3. optimize FQAOA ansatz:\n",
    "$$|\\psi_p({\\boldsymbol \\gamma}^*, {\\boldsymbol \\beta}^*)\\rangle \n",
    "= \\left[\\prod_{j=1}^pU(\\hat{\\cal H}_M,\\beta_j^*){U}(\\hat{\\cal H}_C,\\gamma_j^*)\\right]\\hat{U}_{\\rm init}|{\\rm vac}\\rangle\n",
    "\\qquad {\\rm by}\\quad\n",
    "C_p({\\boldsymbol \\gamma}^*, {\\boldsymbol \\beta}^*)=\\min_{{\\boldsymbol \\gamma}, {\\boldsymbol \\beta}}C_p({\\boldsymbol \\gamma},{\\boldsymbol \\beta}),$$\n",
    "$$\\qquad{\\rm where \\quad}C_p({\\boldsymbol \\gamma}, {\\boldsymbol \\beta}) = \\langle\\psi_p({\\boldsymbol \\gamma}, {\\boldsymbol \\beta})|\\hat{\\cal H}_C|\\psi_p({\\boldsymbol \\gamma}, {\\boldsymbol \\beta})\\rangle.$$\n",
    "The variational parameters $({\\boldsymbol \\gamma}^*, {\\boldsymbol \\beta}^*)$ give the lowest cost value at QAOA level $p$.\n",
    "\n",
    "\n",
    "### One-Dimensional Mixer Hamiltonian\n",
    "\n",
    "The FQAOA implemented on OpenQAOA employs mixer Hamiltonians on one-dimensional lattices. The main features of this computational model are summarized based on the study [2]:\n",
    "\n",
    "- Utilises a mixer Hamiltonian on a one-dimensional lattice dedicated to combinatorial optimization problems with equality constraints of the same coefficients.\n",
    "\n",
    "- Reduced Gate Operations: The new mixer Hamiltonian significantly reduces the number of gate operations in quantum circuits compared to previous studies [1], thus improving computational efficiency.\n",
    "\n",
    "- Noise suppression: as demonstrated in a 16-qubit trapped-ion quantum computer on Amazon Braket, the proposed mixer Hamiltonian effectively suppresses noise and improves algorithm performance.\n",
    "\n",
    "As these features enhance the performance and reliability of FQAOA for solving constrained combinatorial optimization problems, we focus on FQAOA with one-dimensional mixer hamiltonians.\n",
    "\n",
    "The specific mixer Hamiltonian $\\hat{\\cal H}_M$ on cyclic lattice to be implemented in OpenQAOA are as follow:\n",
    "\n",
    "\\begin{eqnarray}\n",
    "\\hat{\\cal H}_M &=& t\\sum_{i=1}^{N-1} (\\hat{c}^\\dagger_i\\hat{c}_{i+1}+\\hat{c}^\\dagger_{i+1}\\hat{c}_i)-t(-1)^{M}(\\hat{c}^\\dagger_N\\hat{c}_{1}+\\hat{c}^\\dagger_{1}\\hat{c}_N).\n",
    "\\end{eqnarray}\n",
    "These Hamiltonians can be diagonalized as:\n",
    "$$\\hat{\\cal H}_M=\\sum_{i=1}^{N}\\varepsilon_i\\hat{\\gamma}_i^\\dagger\\hat{\\gamma}_i \\qquad {\\rm with} \\quad\n",
    "\\hat{\\gamma}_i^\\dagger = \\sum_{j=1}^N[\\phi_0]_{i,j}\\hat{c}^\\dagger_j,$$\n",
    "where $[\\phi_0]$ is the unitary matrix used for the diagonalization and $\\varepsilon_i$ is eigenvalue.\n",
    "The formulation and validation of the model on cyclic lattice are detailed in the study [2].\n",
    "\n",
    "### Initial State and Mixer for FQAOA\n",
    "\n",
    "We describe the specific calculation model utilized for our implementation of the FQAOA on cyclic lattice. \n",
    "The initial state preparation unitary $\\hat{U}_{\\rm init}$ and the mixer $\\hat{U}_M$ used to implement the FQAOA are shown below.\n",
    "\n",
    "- initial state preparation unitary $\\hat{U}_{\\rm init}$ on cyclic lattice:\n",
    "$$|\\phi_0\\rangle=\\hat{U}_{\\rm init}|{\\rm vac}\\rangle=\\left(\\prod_{i=1}^{M}\\hat{\\gamma}_i^\\dagger\\right)|{\\rm vac}\\rangle,\n",
    "\\qquad{\\rm with}\\quad \\hat{U}_{\\rm init}=\\prod_{i=1}^{M}\\left(\\sum_{j=1}^N[\\phi_0]_{i,j}\\hat{c}^\\dagger_j\\right),$$\n",
    "where $M$ is the number of fermions and $i$ indexes the eigenvalues $\\varepsilon_i$ in ascending order.\n",
    "The implementation of the initial state preparation unitary on quantum circuit are shown in Refs. [1-3].\n",
    "\n",
    "- mixing unitary $U(\\hat{\\cal H}_M, \\beta)$ on cyclic lattice:\n",
    "\\begin{eqnarray}\n",
    "U(\\hat{\\cal H}_M, \\beta) &\\sim&\n",
    "\\exp\\left[i\\beta t(-1)^M\\left(\\hat{c}^{\\dagger}_{ND}\\hat{c}_{1}+\\hat{c}^{\\dagger}_{1}\\hat{c}_{ND}\\right)\\right]\n",
    "\\prod_{i\\ {\\rm even}}\\exp\\left[-i\\beta t\\left(\\hat{c}^{\\dagger}_i\\hat{c}_{i+1}+\\hat{c}^{\\dagger}_{i+1}\\hat{c}_{i}\\right)\\right]\n",
    "\\prod_{i\\ {\\rm odd}}\\exp\\left[-i\\beta t\\left(\\hat{c}^{\\dagger}_i\\hat{c}_{i+1}+\\hat{c}^{\\dagger}_{i+1}\\hat{c}_{i}\\right)\\right],\n",
    "\\end{eqnarray}\n",
    "where the approximation by Trotter decomposition is applied, as certain hopping terms are non-commutative.\n",
    "The implementation of the mixed unitary indicated on the right-hand side on quantum circuits is given in Refs. [1, 2, 4, 5]."
   ]
  },
  {
   "cell_type": "markdown",
   "id": "345d258f-4b46-4bd3-a709-7726b3e43b3c",
   "metadata": {},
   "source": [
    "## Constrained Quadratic Optimization Problem"
   ]
  },
  {
   "cell_type": "markdown",
   "id": "ce6be6d4-7355-4ce8-bf68-17edb5f467ec",
   "metadata": {},
   "source": [
    "The objective function of the constrined optimization problem is given by \n",
    "\n",
    "$$\\min_{x} : q x^{T} \\Sigma x-\\mu^{T} x,\\qquad {\\rm s.t.} \\quad\\sum_{i=1}^{N} x_i = M,$$\n",
    "\n",
    "where:\n",
    "- $N$: number of decision variables\n",
    "- $x \\in\\{0,1\\}^{N}$: vector of binary decision variables,\n",
    "- $\\mu \\in R^{n}$: vector of coefficients for the linear term,\n",
    "- $\\Sigma \\in R^{n \\times n}$: symmetric positive semidefinite matrix for quadratic term,\n",
    "- $q$: quadratic term coeffient,\n",
    "- $M$: constraint on the sum of decision variables."
   ]
  },
  {
   "cell_type": "markdown",
   "id": "8d47957a-251f-4206-8199-2c551713a754",
   "metadata": {},
   "source": [
    "In the following, the [portfolio optimization problem](https://en.wikipedia.org/wiki/Portfolio_optimization) is taken as a constrained quadratic formal optimisation problem. The same model parameters are used as in [6]."
   ]
  },
  {
   "cell_type": "code",
   "execution_count": 1,
   "id": "41ebdb3b",
   "metadata": {},
   "outputs": [],
   "source": [
    "import numpy as np\n",
    "# Init variables to geretate the data for portfolio optimization\n",
    "np.random.seed(1)\n",
    "num_assets = 10\n",
    "num_days = 15\n",
    "q = 1.0\n",
    "Budget = 5\n",
    "hist_exp = (1 - 2 * np.random.rand(num_assets)).reshape(-1,1) * (np.array([np.arange(num_days) for i in range(num_assets)]) + np.random.randint(10)) + (1 - 2 * np.random.rand(num_assets,  num_days)) \n",
    "# Mean expected return and covriance matrix\n",
    "mu = hist_exp.mean(axis=1)\n",
    "sigma = np.cov(hist_exp) "
   ]
  },
  {
   "cell_type": "code",
   "execution_count": 2,
   "id": "147c272e",
   "metadata": {},
   "outputs": [],
   "source": [
    "from docplex.mp.model import Model\n",
    "from openqaoa.problems.converters import FromDocplex2IsingModel\n",
    "\n",
    "# portfolio optimization function\n",
    "mdl = Model()\n",
    "x = np.array(mdl.binary_var_list(num_assets)) \n",
    "objective_function = q * (x.T @ sigma @ x) - mu @ x\n",
    "mdl.minimize(objective_function)\n",
    "mdl.add_constraint(x.sum() == Budget)\n",
    "qubo_po = FromDocplex2IsingModel(mdl)\n",
    "ising_encoding_po = qubo_po.ising_model "
   ]
  },
  {
   "cell_type": "markdown",
   "id": "fe2621d4",
   "metadata": {},
   "source": [
    "##  Solving problems using FQAOA on OpenQAOA"
   ]
  },
  {
   "cell_type": "code",
   "execution_count": 3,
   "id": "6d2328a6-88f2-4a85-964e-d00f036d044a",
   "metadata": {
    "scrolled": true
   },
   "outputs": [],
   "source": [
    "# Indicate the device, this case is a local simulator\n",
    "from openqaoa.backends import create_device\n",
    "device = create_device('local', 'qiskit.statevector_simulator')"
   ]
  },
  {
   "cell_type": "markdown",
   "id": "f54c48a2",
   "metadata": {},
   "source": [
    "The quantum algorithms consider the following properties: the qiskit's statevector_simulator backend with a `p` value equals to 2, with `ramp` initialization."
   ]
  },
  {
   "cell_type": "markdown",
   "id": "f7eb209f-387b-4987-b642-e76f61168cf1",
   "metadata": {},
   "source": [
    "### Optimization using FQAOA\n",
    "\n",
    "Here, a fermionic mixer Hamiltonian $\\hat{\\cal H}_M$ on cyclic lattice determines its ground state as the initial state $\\hat{U}_{\\rm init}|\\rm vac\\rangle$ and its mixer $U(\\hat{\\cal H}_M, \\beta)$."
   ]
  },
  {
   "cell_type": "code",
   "execution_count": 4,
   "id": "11087210-d89c-4b4d-a85a-576a1faad80f",
   "metadata": {},
   "outputs": [],
   "source": [
    "from openqaoa import FQAOA\n",
    "fqaoa = FQAOA(device)\n",
    "fqaoa.set_fqaoa_parameters(n_qubits=num_assets, n_fermions=Budget)\n",
    "fqaoa.set_circuit_properties(p=2, init_type='ramp')\n",
    "fqaoa.compile(ising_encoding_po)\n",
    "fqaoa.optimize()\n",
    "fqaoa_results = fqaoa.result"
   ]
  },
  {
   "cell_type": "markdown",
   "id": "4c4dd7b9-0389-4689-a4fd-52917e6d7b06",
   "metadata": {},
   "source": [
    "### Optimization using Conventional QAOA\n",
    "\n",
    "Here, the conventional X-mixer Hamiltonian $H_M$ determines its ground state as the initial state and its unitary transformation $\\exp(-i\\beta\\hat{\\cal H}_M)$ as the mixer."
   ]
  },
  {
   "cell_type": "code",
   "execution_count": 5,
   "id": "0ee8df0b-e25d-4f9b-8304-1bdff0acb64b",
   "metadata": {},
   "outputs": [],
   "source": [
    "from openqaoa import QAOA\n",
    "qaoa = QAOA(device)\n",
    "qaoa.set_circuit_properties(p=2, init_type='ramp')\n",
    "qaoa.compile(ising_encoding_po)\n",
    "qaoa.optimize()\n",
    "qaoa_results = qaoa.result"
   ]
  },
  {
   "cell_type": "markdown",
   "id": "5bf46716-6f89-4e00-bbae-cbe8a991055e",
   "metadata": {},
   "source": [
    "### Performance Evaluation of FQAOA"
   ]
  },
  {
   "cell_type": "markdown",
   "id": "7571203b-664e-40c9-ba7d-209372403a80",
   "metadata": {},
   "source": [
    "To evalueate the performance of FQAOA, we show expectation value of costs. \n",
    "We define normalized costs by \n",
    "$\\Delta C/W$ with $\\Delta C = (cost-cost_{\\rm min})$ and $W=(cost_{\\rm max}-cost_{\\rm min})$, where $cost_{\\rm max}$ ($cost_{\\rm min}$) is maximum (minimum) value of cost under the cosntraint."
   ]
  },
  {
   "cell_type": "code",
   "execution_count": 6,
   "id": "fe328715-f5ef-4422-aae4-a5e9dd745942",
   "metadata": {
    "scrolled": true
   },
   "outputs": [
    {
     "name": "stdout",
     "output_type": "stream",
     "text": [
      "(cost_min, cost_max) =  ( -2.6042725099164272 210.7614169508679 )\n"
     ]
    }
   ],
   "source": [
    "# maximum-minimum estimations of costs for normalization\n",
    "from openqaoa.utilities import bitstring_energy\n",
    "qaoa_po = QAOA(device)\n",
    "qaoa_po.compile(ising_encoding_po)\n",
    "x_in_constraint = []\n",
    "for i in range(2**num_assets):\n",
    "    bit = bin(i)[2:].zfill(num_assets)\n",
    "    cost = bitstring_energy(qaoa_po.cost_hamil, bit[::-1])\n",
    "    if bit.count('1') == Budget:\n",
    "        x_in_constraint.append(cost)\n",
    "max_x, min_x = max(x_in_constraint), min(x_in_constraint)\n",
    "print('(cost_min, cost_max) = ', '(', min_x, max_x,')')"
   ]
  },
  {
   "cell_type": "code",
   "execution_count": 7,
   "id": "9b2c0b91-4de0-4362-9470-1d7a354e5418",
   "metadata": {},
   "outputs": [],
   "source": [
    "# optimization\n",
    "label_list = ['QAOA', 'FQAOA']\n",
    "opt_results_list, cost_list = [], []\n",
    "exp_cost_dict = {}\n",
    "for opt_result in [qaoa_results, fqaoa_results]:\n",
    "    opt_results_list.append(opt_result)\n",
    "    cost_list.append(opt_result.optimized['cost'])"
   ]
  },
  {
   "cell_type": "code",
   "execution_count": 8,
   "id": "e620d83e-0a6c-433a-af44-1b7a04f0d491",
   "metadata": {},
   "outputs": [
    {
     "data": {
      "text/html": [
       "<div>\n",
       "<style scoped>\n",
       "    .dataframe tbody tr th:only-of-type {\n",
       "        vertical-align: middle;\n",
       "    }\n",
       "\n",
       "    .dataframe tbody tr th {\n",
       "        vertical-align: top;\n",
       "    }\n",
       "\n",
       "    .dataframe thead th {\n",
       "        text-align: right;\n",
       "    }\n",
       "</style>\n",
       "<table border=\"1\" class=\"dataframe\">\n",
       "  <thead>\n",
       "    <tr style=\"text-align: right;\">\n",
       "      <th></th>\n",
       "      <th>method</th>\n",
       "      <th>cost</th>\n",
       "      <th>$\\Delta C$/W</th>\n",
       "    </tr>\n",
       "  </thead>\n",
       "  <tbody>\n",
       "    <tr>\n",
       "      <th>0</th>\n",
       "      <td>QAOA</td>\n",
       "      <td>1294.838616</td>\n",
       "      <td>6.080841</td>\n",
       "    </tr>\n",
       "    <tr>\n",
       "      <th>1</th>\n",
       "      <td>FQAOA</td>\n",
       "      <td>27.028662</td>\n",
       "      <td>0.138883</td>\n",
       "    </tr>\n",
       "  </tbody>\n",
       "</table>\n",
       "</div>"
      ],
      "text/plain": [
       "  method         cost  $\\Delta C$/W\n",
       "0   QAOA  1294.838616      6.080841\n",
       "1  FQAOA    27.028662      0.138883"
      ]
     },
     "metadata": {},
     "output_type": "display_data"
    }
   ],
   "source": [
    "import pandas as pd\n",
    "exp_cost_dict['method'] = label_list\n",
    "exp_cost_dict['cost'] = cost_list\n",
    "exp_cost_dict[r'$\\Delta C$/W'] = (np.array(cost_list)-min_x)/(max_x-min_x)\n",
    "df = pd.DataFrame(exp_cost_dict)\n",
    "display(df)"
   ]
  },
  {
   "cell_type": "code",
   "execution_count": 9,
   "id": "184ca62f-c1fa-4c53-8641-9eab67adbcea",
   "metadata": {},
   "outputs": [
    {
     "data": {
      "image/png": "[encoded data removed]",
      "text/plain": [
       "<Figure size 1000x800 with 1 Axes>"
      ]
     },
     "metadata": {},
     "output_type": "display_data"
    }
   ],
   "source": [
    "import matplotlib.pyplot as plt\n",
    "%matplotlib inline\n",
    "# plot cost history\n",
    "figsize=(10, 8)\n",
    "fig, ax = plt.subplots(figsize=figsize)\n",
    "x3values, y3values = [], []\n",
    "for i, opt_results in enumerate(opt_results_list):\n",
    "    # print the cost history\n",
    "    opt_results.plot_cost(ax = ax, color = f'C{i}', label = label_list[i])\n",
    "ax.grid(True)    \n",
    "ax.set_ylim(min_x, 2000)\n",
    "ylim_scaled = 8\n",
    "ax.set_ylabel(r'normalized cost, $\\Delta$C/W')\n",
    "ax.set_ylim(min_x, min_x+(ylim_scaled)*(max_x-min_x))\n",
    "ax.set_yticks([min_x+i*(max_x-min_x) for i in range(ylim_scaled+1)], [i for i in range(ylim_scaled+1)])\n",
    "\n",
    "plt.show()"
   ]
  },
  {
   "cell_type": "markdown",
   "id": "9c6dda49-9fb0-4235-9a7d-8e6ba14ecebf",
   "metadata": {},
   "source": [
    "### Performance Evaluation of FQAOA"
   ]
  },
  {
   "cell_type": "markdown",
   "id": "5bb1d29c-9af8-4e6b-bb27-0fca690a7b65",
   "metadata": {},
   "source": [
    "show the best 5 states for this particular Portfolio optimization problem"
   ]
  },
  {
   "cell_type": "code",
   "execution_count": 10,
   "id": "7ee6f428",
   "metadata": {
    "scrolled": true
   },
   "outputs": [
    {
     "name": "stdout",
     "output_type": "stream",
     "text": [
      "Comparison of methods for calculating the probability of finding the optimal solutions\n"
     ]
    },
    {
     "data": {
      "text/html": [
       "<div>\n",
       "<style scoped>\n",
       "    .dataframe tbody tr th:only-of-type {\n",
       "        vertical-align: middle;\n",
       "    }\n",
       "\n",
       "    .dataframe tbody tr th {\n",
       "        vertical-align: top;\n",
       "    }\n",
       "\n",
       "    .dataframe thead th {\n",
       "        text-align: right;\n",
       "    }\n",
       "</style>\n",
       "<table border=\"1\" class=\"dataframe\">\n",
       "  <thead>\n",
       "    <tr style=\"text-align: right;\">\n",
       "      <th></th>\n",
       "      <th>solutions bitstrings</th>\n",
       "      <th>cost</th>\n",
       "      <th>$\\Delta$C/W</th>\n",
       "      <th>Probability (QAOA)</th>\n",
       "      <th>Probability (FQAOA)</th>\n",
       "    </tr>\n",
       "  </thead>\n",
       "  <tbody>\n",
       "    <tr>\n",
       "      <th>0</th>\n",
       "      <td>1101100001</td>\n",
       "      <td>-2.604273</td>\n",
       "      <td>0.000000</td>\n",
       "      <td>0.000034</td>\n",
       "      <td>0.009313</td>\n",
       "    </tr>\n",
       "    <tr>\n",
       "      <th>1</th>\n",
       "      <td>1101000101</td>\n",
       "      <td>-2.472965</td>\n",
       "      <td>0.000615</td>\n",
       "      <td>0.000092</td>\n",
       "      <td>0.018148</td>\n",
       "    </tr>\n",
       "    <tr>\n",
       "      <th>2</th>\n",
       "      <td>1101001001</td>\n",
       "      <td>-2.299722</td>\n",
       "      <td>0.001427</td>\n",
       "      <td>0.000001</td>\n",
       "      <td>0.012510</td>\n",
       "    </tr>\n",
       "    <tr>\n",
       "      <th>3</th>\n",
       "      <td>1100100101</td>\n",
       "      <td>-2.160815</td>\n",
       "      <td>0.002078</td>\n",
       "      <td>0.000006</td>\n",
       "      <td>0.004845</td>\n",
       "    </tr>\n",
       "    <tr>\n",
       "      <th>4</th>\n",
       "      <td>1100100011</td>\n",
       "      <td>-1.820697</td>\n",
       "      <td>0.003672</td>\n",
       "      <td>0.000069</td>\n",
       "      <td>0.012701</td>\n",
       "    </tr>\n",
       "  </tbody>\n",
       "</table>\n",
       "</div>"
      ],
      "text/plain": [
       "  solutions bitstrings      cost  $\\Delta$C/W  Probability (QAOA)  \\\n",
       "0           1101100001 -2.604273     0.000000            0.000034   \n",
       "1           1101000101 -2.472965     0.000615            0.000092   \n",
       "2           1101001001 -2.299722     0.001427            0.000001   \n",
       "3           1100100101 -2.160815     0.002078            0.000006   \n",
       "4           1100100011 -1.820697     0.003672            0.000069   \n",
       "\n",
       "   Probability (FQAOA)  \n",
       "0             0.009313  \n",
       "1             0.018148  \n",
       "2             0.012510  \n",
       "3             0.004845  \n",
       "4             0.012701  "
      ]
     },
     "metadata": {},
     "output_type": "display_data"
    }
   ],
   "source": [
    "# Print the best 5 solutions\n",
    "lowest_dict = opt_results_list[0].lowest_cost_bitstrings(5)\n",
    "#list1 = qaoa_po_dict['bitstrings_energies']\n",
    "list1 = lowest_dict['bitstrings_energies']\n",
    "list2 = [(list1[i]-min_x)/(max_x-min_x) for i in range(5)]\n",
    "qaoa_po_dict = {}\n",
    "qaoa_po_dict['solutions bitstrings'] = lowest_dict['solutions_bitstrings']\n",
    "qaoa_po_dict['cost'] = lowest_dict['bitstrings_energies']\n",
    "qaoa_po_dict[r'$\\Delta$C/W'] = [(list1[i]-min_x)/(max_x-min_x) for i in range(5)]\n",
    "qaoa_po_dict[f'Probability ({label_list[0]})'] = lowest_dict.pop('probabilities')\n",
    "qaoa_po_dict[f'Probability ({label_list[1]})'] = opt_results_list[1].lowest_cost_bitstrings(5)['probabilities']\n",
    "df = pd.DataFrame(qaoa_po_dict)\n",
    "print('Comparison of methods for calculating the probability of finding the optimal solutions')\n",
    "display(df)"
   ]
  },
  {
   "cell_type": "markdown",
   "id": "7ce08877-3234-485a-8abf-1b72ef0f98fc",
   "metadata": {},
   "source": [
    "show the probability distribution of costs."
   ]
  },
  {
   "cell_type": "code",
   "execution_count": 11,
   "id": "f8759e52-b513-4f01-b218-6c90e6c1c5f4",
   "metadata": {},
   "outputs": [
    {
     "data": {
      "image/png": "[encoded data removed]",
      "text/plain": [
       "<Figure size 1000x800 with 1 Axes>"
      ]
     },
     "metadata": {},
     "output_type": "display_data"
    }
   ],
   "source": [
    "# plot energy distribution\n",
    "xvalues, yvalues = [], []\n",
    "for opt_results in opt_results_list:\n",
    "    measurement_outcomes = opt_results.optimized['measurement_outcomes']\n",
    "    costprob = []\n",
    "    for i, amplitude in enumerate(measurement_outcomes):\n",
    "        bit = bin(i)[2:].zfill(num_assets)\n",
    "        probability = abs(amplitude)**2\n",
    "        costprob.append([bitstring_energy(qaoa_po.cost_hamil, bit[::-1]), probability, bit])\n",
    "\n",
    "    # Extracting the second values from the data points for the histogram\n",
    "    xvalues.append([(point[0]-min_x)/(max_x-min_x) for point in costprob])\n",
    "    yvalues.append([point[1] for point in costprob])\n",
    "\n",
    "xmax, bins = 1.0, 20\n",
    "figsize=(10, 8)\n",
    "fig, ax = plt.subplots(figsize=figsize)\n",
    "ax.set_xlim(0, xmax)\n",
    "ax.set_ylim(0, 0.5)\n",
    "ax.hist(xvalues, bins = np.linspace(0, xmax, bins+1), weights=yvalues, edgecolor='black', label = label_list)\n",
    "ax.set_xlabel(r'normalized cost, $\\Delta$C/W')\n",
    "ax.set_ylabel('Probability')\n",
    "ax.grid(True)\n",
    "ax.legend()\n",
    "\n",
    "plt.show()"
   ]
  },
  {
   "cell_type": "markdown",
   "id": "8106c098-1fe7-43ad-b276-8aeeb57f0e7d",
   "metadata": {},
   "source": [
    "# References\n",
    "\n",
    "[1] T. Yoshioka, K. Sasada, Y. Nakano, and K. Fujii, [Phys. Rev. Research 5, 023071 (2023).](https://journals.aps.org/prresearch/pdf/10.1103/PhysRevResearch.5.023071), [arXiv: 2301.10756 [quant-ph]](https://arxiv.org/pdf/2301.10756). \\\n",
    "[2] T. Yoshioka, K. Sasada, Y. Nakano, and K. Fujii, [2023 IEEE International Conference on Quantum Computing and Engineering (QCE) 1, 300-306 (2023).](https://ieeexplore.ieee.org/document/10313662), [arXiv: 2312.04710 [quant-phi]](https://arxiv.org/pdf/2312.04710). \\\n",
    "[3] Z. Jiang, J. S. Kevin, K. Kechedzhi, V. N. Smelyanskiy, and S. Boixo, [Phys. Rev. Appl. 9, 044036 (2018).](https://journals.aps.org/prapplied/abstract/10.1103/PhysRevApplied.9.044036) \\\n",
    "[4] S. Hadfield, Z. Wang, B. O’Gorman, E. G. Rieffel, D. Venturelli, and R. Biswas, [algorithms 12, 34 (2019).](https://www.mdpi.com/1999-4893/12/2/34) \\\n",
    "[5] Z. Wang, N. C. Rubin, J. M. Dominy, and E. G. Rioeffel, [Phys. Rev. A 101, 012320 (2020).](https://journals.aps.org/pra/abstract/10.1103/PhysRevA.101.012320) \\\n",
    "[6] [openqaoa/examples/community_tutorials/03_portfolio_optimization.ipynb](https://github.com/entropicalabs/openqaoa/blob/main/examples/community_tutorials/03_portfolio_optimization.ipynb)"
   ]
  }
 ],
 "metadata": {
  "kernelspec": {
   "display_name": "Python 3 (ipykernel)",
   "language": "python",
   "name": "python3"
  },
  "language_info": {
   "codemirror_mode": {
    "name": "ipython",
    "version": 3
   },
   "file_extension": ".py",
   "mimetype": "text/x-python",
   "name": "python",
   "nbconvert_exporter": "python",
   "pygments_lexer": "ipython3",
   "version": "3.10.12"
  }
 },
 "nbformat": 4,
 "nbformat_minor": 5
}
